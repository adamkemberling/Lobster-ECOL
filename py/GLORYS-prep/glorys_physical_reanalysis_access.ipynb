{
 "cells": [
  {
   "cell_type": "markdown",
   "metadata": {},
   "source": [
    "# About:\n",
    "\n",
    "This notebook details the code run to download glorys reanalysis data the using copernicusmarine toolkit."
   ]
  },
  {
   "cell_type": "code",
   "execution_count": 1,
   "metadata": {},
   "outputs": [
    {
     "name": "stdout",
     "output_type": "stream",
     "text": [
      "/Users/akemberling/Documents/Repositories/Lobster-ECOL/py/GLORYS-prep\n"
     ]
    }
   ],
   "source": [
    "# Libraries\n",
    "import copernicusmarine\n",
    "from pprint import pprint\n",
    "import os\n",
    "\n",
    "# Set directory of where to save a manageable piece (relative path)\n",
    "print(os.getcwd())\n",
    "\n",
    "# Path to Box Assets\n",
    "box_root = \"/Users/akemberling/Library/CloudStorage/Box-Box/\"\n",
    "glorys_path = f\"{box_root}RES_Data/GLORYs/GLOBAL_MULTIYEAR_PHY_001_030/\""
   ]
  },
  {
   "cell_type": "code",
   "execution_count": 2,
   "metadata": {},
   "outputs": [
    {
     "name": "stdout",
     "output_type": "stream",
     "text": [
      "username:password:File /Users/akemberling/.copernicusmarine/.copernicusmarine-credentials already exists, overwrite it ? [y/N]:INFO - 2024-04-04T17:48:36Z - Credentials file stored in /Users/akemberling/.copernicusmarine/.copernicusmarine-credentials.\n"
     ]
    },
    {
     "data": {
      "text/plain": [
       "True"
      ]
     },
     "execution_count": 2,
     "metadata": {},
     "output_type": "execute_result"
    }
   ],
   "source": [
    "# # Credentials - only run once to store them\n",
    "# copernicusmarine.login()"
   ]
  },
  {
   "cell_type": "markdown",
   "metadata": {},
   "source": [
    "### Download the Data"
   ]
  },
  {
   "cell_type": "code",
   "execution_count": 3,
   "metadata": {},
   "outputs": [
    {
     "name": "stderr",
     "output_type": "stream",
     "text": [
      "Fetching catalog: 100%|██████████| 4/4 [00:38<00:00,  9.65s/it]\n"
     ]
    },
    {
     "name": "stdout",
     "output_type": "stream",
     "text": [
      "INFO - 2024-04-04T17:49:39Z - Dataset version was not specified, the latest one was selected: \"202211\"\n",
      "INFO - 2024-04-04T17:49:39Z - Dataset part was not specified, the first one was selected: \"default\"\n",
      "INFO - 2024-04-04T17:49:39Z - Service was not specified, the default one was selected: \"original-files\"\n",
      "INFO - 2024-04-04T17:49:39Z - Downloading using service original-files...\n",
      "INFO - 2024-04-04T17:49:41Z - You requested the download of the following files:\n",
      "s3://mdl-native-12/native/MEDSEA_MULTIYEAR_PHY_006_004/cmems_mod_med_phy-tem_my_4.2km_P1Y-m_202211/19870101_y-CMCC--TEMP-MFSe3r1-MED-b20220901_re-sv01.00.nc - 25.40 MB - 2023-11-15T08:23:50Z\n",
      "s3://mdl-native-12/native/MEDSEA_MULTIYEAR_PHY_006_004/cmems_mod_med_phy-tem_my_4.2km_P1Y-m_202211/19880101_y-CMCC--TEMP-MFSe3r1-MED-b20220901_re-sv01.00.nc - 25.40 MB - 2023-11-15T08:23:50Z\n",
      "s3://mdl-native-12/native/MEDSEA_MULTIYEAR_PHY_006_004/cmems_mod_med_phy-tem_my_4.2km_P1Y-m_202211/19890101_y-CMCC--TEMP-MFSe3r1-MED-b20220901_re-sv01.00.nc - 25.42 MB - 2023-11-15T08:23:50Z\n",
      "s3://mdl-native-12/native/MEDSEA_MULTIYEAR_PHY_006_004/cmems_mod_med_phy-tem_my_4.2km_P1Y-m_202211/19900101_y-CMCC--TEMP-MFSe3r1-MED-b20220901_re-sv01.00.nc - 25.44 MB - 2023-11-15T08:23:50Z\n",
      "s3://mdl-native-12/native/MEDSEA_MULTIYEAR_PHY_006_004/cmems_mod_med_phy-tem_my_4.2km_P1Y-m_202211/19910101_y-CMCC--TEMP-MFSe3r1-MED-b20220901_re-sv01.00.nc - 25.40 MB - 2023-11-15T08:23:51Z\n",
      "s3://mdl-native-12/native/MEDSEA_MULTIYEAR_PHY_006_004/cmems_mod_med_phy-tem_my_4.2km_P1Y-m_202211/19920101_y-CMCC--TEMP-MFSe3r1-MED-b20220901_re-sv01.00.nc - 25.47 MB - 2023-11-15T08:23:51Z\n",
      "s3://mdl-native-12/native/MEDSEA_MULTIYEAR_PHY_006_004/cmems_mod_med_phy-tem_my_4.2km_P1Y-m_202211/19930101_y-CMCC--TEMP-MFSe3r1-MED-b20220901_re-sv01.00.nc - 25.57 MB - 2023-11-15T08:23:51Z\n",
      "s3://mdl-native-12/native/MEDSEA_MULTIYEAR_PHY_006_004/cmems_mod_med_phy-tem_my_4.2km_P1Y-m_202211/19940101_y-CMCC--TEMP-MFSe3r1-MED-b20220901_re-sv01.00.nc - 25.49 MB - 2023-11-15T08:23:51Z\n",
      "s3://mdl-native-12/native/MEDSEA_MULTIYEAR_PHY_006_004/cmems_mod_med_phy-tem_my_4.2km_P1Y-m_202211/19950101_y-CMCC--TEMP-MFSe3r1-MED-b20220901_re-sv01.00.nc - 25.49 MB - 2023-11-15T08:23:52Z\n",
      "s3://mdl-native-12/native/MEDSEA_MULTIYEAR_PHY_006_004/cmems_mod_med_phy-tem_my_4.2km_P1Y-m_202211/19960101_y-CMCC--TEMP-MFSe3r1-MED-b20220901_re-sv01.00.nc - 25.46 MB - 2023-11-15T08:23:52Z\n",
      "s3://mdl-native-12/native/MEDSEA_MULTIYEAR_PHY_006_004/cmems_mod_med_phy-tem_my_4.2km_P1Y-m_202211/19970101_y-CMCC--TEMP-MFSe3r1-MED-b20220901_re-sv01.00.nc - 25.47 MB - 2023-11-15T08:23:52Z\n",
      "s3://mdl-native-12/native/MEDSEA_MULTIYEAR_PHY_006_004/cmems_mod_med_phy-tem_my_4.2km_P1Y-m_202211/19980101_y-CMCC--TEMP-MFSe3r1-MED-b20220901_re-sv01.00.nc - 25.46 MB - 2023-11-15T08:23:52Z\n",
      "s3://mdl-native-12/native/MEDSEA_MULTIYEAR_PHY_006_004/cmems_mod_med_phy-tem_my_4.2km_P1Y-m_202211/19990101_y-CMCC--TEMP-MFSe3r1-MED-b20220901_re-sv01.00.nc - 25.51 MB - 2023-11-15T08:23:52Z\n",
      "s3://mdl-native-12/native/MEDSEA_MULTIYEAR_PHY_006_004/cmems_mod_med_phy-tem_my_4.2km_P1Y-m_202211/20000101_y-CMCC--TEMP-MFSe3r1-MED-b20220901_re-sv01.00.nc - 25.49 MB - 2023-11-15T08:23:52Z\n",
      "s3://mdl-native-12/native/MEDSEA_MULTIYEAR_PHY_006_004/cmems_mod_med_phy-tem_my_4.2km_P1Y-m_202211/20010101_y-CMCC--TEMP-MFSe3r1-MED-b20220901_re-sv01.00.nc - 25.45 MB - 2023-11-15T08:23:52Z\n",
      "s3://mdl-native-12/native/MEDSEA_MULTIYEAR_PHY_006_004/cmems_mod_med_phy-tem_my_4.2km_P1Y-m_202211/20020101_y-CMCC--TEMP-MFSe3r1-MED-b20220901_re-sv01.00.nc - 25.42 MB - 2023-11-15T08:23:52Z\n",
      "s3://mdl-native-12/native/MEDSEA_MULTIYEAR_PHY_006_004/cmems_mod_med_phy-tem_my_4.2km_P1Y-m_202211/20030101_y-CMCC--TEMP-MFSe3r1-MED-b20220901_re-sv01.00.nc - 25.43 MB - 2023-11-15T08:23:53Z\n",
      "s3://mdl-native-12/native/MEDSEA_MULTIYEAR_PHY_006_004/cmems_mod_med_phy-tem_my_4.2km_P1Y-m_202211/20040101_y-CMCC--TEMP-MFSe3r1-MED-b20220901_re-sv01.00.nc - 25.36 MB - 2023-11-15T08:23:53Z\n",
      "s3://mdl-native-12/native/MEDSEA_MULTIYEAR_PHY_006_004/cmems_mod_med_phy-tem_my_4.2km_P1Y-m_202211/20050101_y-CMCC--TEMP-MFSe3r1-MED-b20220901_re-sv01.00.nc - 25.36 MB - 2023-11-15T08:23:53Z\n",
      "s3://mdl-native-12/native/MEDSEA_MULTIYEAR_PHY_006_004/cmems_mod_med_phy-tem_my_4.2km_P1Y-m_202211/20060101_y-CMCC--TEMP-MFSe3r1-MED-b20220901_re-sv01.00.nc - 25.33 MB - 2023-11-15T08:23:53Z\n",
      "Printed 20 out of 35 files\n",
      "\n",
      "Total size of the download: 888.76 MB\n",
      "\n",
      "\n",
      "Do you want to proceed with download? [Y/n]:"
     ]
    },
    {
     "name": "stderr",
     "output_type": "stream",
     "text": [
      "100%|██████████| 35/35 [01:37<00:00,  2.79s/it]"
     ]
    },
    {
     "name": "stdout",
     "output_type": "stream",
     "text": [
      "('List of saved files: '\n",
      " \"[PosixPath('/Users/akemberling/Library/CloudStorage/Box-Box/RES_Data/GLORYs/GLOBAL_MULTIYEAR_PHY_001_030/19870101_y-CMCC--TEMP-MFSe3r1-MED-b20220901_re-sv01.00.nc'), \"\n",
      " \"PosixPath('/Users/akemberling/Library/CloudStorage/Box-Box/RES_Data/GLORYs/GLOBAL_MULTIYEAR_PHY_001_030/19880101_y-CMCC--TEMP-MFSe3r1-MED-b20220901_re-sv01.00.nc'), \"\n",
      " \"PosixPath('/Users/akemberling/Library/CloudStorage/Box-Box/RES_Data/GLORYs/GLOBAL_MULTIYEAR_PHY_001_030/19890101_y-CMCC--TEMP-MFSe3r1-MED-b20220901_re-sv01.00.nc'), \"\n",
      " \"PosixPath('/Users/akemberling/Library/CloudStorage/Box-Box/RES_Data/GLORYs/GLOBAL_MULTIYEAR_PHY_001_030/19900101_y-CMCC--TEMP-MFSe3r1-MED-b20220901_re-sv01.00.nc'), \"\n",
      " \"PosixPath('/Users/akemberling/Library/CloudStorage/Box-Box/RES_Data/GLORYs/GLOBAL_MULTIYEAR_PHY_001_030/19910101_y-CMCC--TEMP-MFSe3r1-MED-b20220901_re-sv01.00.nc'), \"\n",
      " \"PosixPath('/Users/akemberling/Library/CloudStorage/Box-Box/RES_Data/GLORYs/GLOBAL_MULTIYEAR_PHY_001_030/19920101_y-CMCC--TEMP-MFSe3r1-MED-b20220901_re-sv01.00.nc'), \"\n",
      " \"PosixPath('/Users/akemberling/Library/CloudStorage/Box-Box/RES_Data/GLORYs/GLOBAL_MULTIYEAR_PHY_001_030/19930101_y-CMCC--TEMP-MFSe3r1-MED-b20220901_re-sv01.00.nc'), \"\n",
      " \"PosixPath('/Users/akemberling/Library/CloudStorage/Box-Box/RES_Data/GLORYs/GLOBAL_MULTIYEAR_PHY_001_030/19940101_y-CMCC--TEMP-MFSe3r1-MED-b20220901_re-sv01.00.nc'), \"\n",
      " \"PosixPath('/Users/akemberling/Library/CloudStorage/Box-Box/RES_Data/GLORYs/GLOBAL_MULTIYEAR_PHY_001_030/19950101_y-CMCC--TEMP-MFSe3r1-MED-b20220901_re-sv01.00.nc'), \"\n",
      " \"PosixPath('/Users/akemberling/Library/CloudStorage/Box-Box/RES_Data/GLORYs/GLOBAL_MULTIYEAR_PHY_001_030/19960101_y-CMCC--TEMP-MFSe3r1-MED-b20220901_re-sv01.00.nc'), \"\n",
      " \"PosixPath('/Users/akemberling/Library/CloudStorage/Box-Box/RES_Data/GLORYs/GLOBAL_MULTIYEAR_PHY_001_030/19970101_y-CMCC--TEMP-MFSe3r1-MED-b20220901_re-sv01.00.nc'), \"\n",
      " \"PosixPath('/Users/akemberling/Library/CloudStorage/Box-Box/RES_Data/GLORYs/GLOBAL_MULTIYEAR_PHY_001_030/19980101_y-CMCC--TEMP-MFSe3r1-MED-b20220901_re-sv01.00.nc'), \"\n",
      " \"PosixPath('/Users/akemberling/Library/CloudStorage/Box-Box/RES_Data/GLORYs/GLOBAL_MULTIYEAR_PHY_001_030/19990101_y-CMCC--TEMP-MFSe3r1-MED-b20220901_re-sv01.00.nc'), \"\n",
      " \"PosixPath('/Users/akemberling/Library/CloudStorage/Box-Box/RES_Data/GLORYs/GLOBAL_MULTIYEAR_PHY_001_030/20000101_y-CMCC--TEMP-MFSe3r1-MED-b20220901_re-sv01.00.nc'), \"\n",
      " \"PosixPath('/Users/akemberling/Library/CloudStorage/Box-Box/RES_Data/GLORYs/GLOBAL_MULTIYEAR_PHY_001_030/20010101_y-CMCC--TEMP-MFSe3r1-MED-b20220901_re-sv01.00.nc'), \"\n",
      " \"PosixPath('/Users/akemberling/Library/CloudStorage/Box-Box/RES_Data/GLORYs/GLOBAL_MULTIYEAR_PHY_001_030/20020101_y-CMCC--TEMP-MFSe3r1-MED-b20220901_re-sv01.00.nc'), \"\n",
      " \"PosixPath('/Users/akemberling/Library/CloudStorage/Box-Box/RES_Data/GLORYs/GLOBAL_MULTIYEAR_PHY_001_030/20030101_y-CMCC--TEMP-MFSe3r1-MED-b20220901_re-sv01.00.nc'), \"\n",
      " \"PosixPath('/Users/akemberling/Library/CloudStorage/Box-Box/RES_Data/GLORYs/GLOBAL_MULTIYEAR_PHY_001_030/20040101_y-CMCC--TEMP-MFSe3r1-MED-b20220901_re-sv01.00.nc'), \"\n",
      " \"PosixPath('/Users/akemberling/Library/CloudStorage/Box-Box/RES_Data/GLORYs/GLOBAL_MULTIYEAR_PHY_001_030/20050101_y-CMCC--TEMP-MFSe3r1-MED-b20220901_re-sv01.00.nc'), \"\n",
      " \"PosixPath('/Users/akemberling/Library/CloudStorage/Box-Box/RES_Data/GLORYs/GLOBAL_MULTIYEAR_PHY_001_030/20060101_y-CMCC--TEMP-MFSe3r1-MED-b20220901_re-sv01.00.nc'), \"\n",
      " \"PosixPath('/Users/akemberling/Library/CloudStorage/Box-Box/RES_Data/GLORYs/GLOBAL_MULTIYEAR_PHY_001_030/20070101_y-CMCC--TEMP-MFSe3r1-MED-b20220901_re-sv01.00.nc'), \"\n",
      " \"PosixPath('/Users/akemberling/Library/CloudStorage/Box-Box/RES_Data/GLORYs/GLOBAL_MULTIYEAR_PHY_001_030/20080101_y-CMCC--TEMP-MFSe3r1-MED-b20220901_re-sv01.00.nc'), \"\n",
      " \"PosixPath('/Users/akemberling/Library/CloudStorage/Box-Box/RES_Data/GLORYs/GLOBAL_MULTIYEAR_PHY_001_030/20090101_y-CMCC--TEMP-MFSe3r1-MED-b20220901_re-sv01.00.nc'), \"\n",
      " \"PosixPath('/Users/akemberling/Library/CloudStorage/Box-Box/RES_Data/GLORYs/GLOBAL_MULTIYEAR_PHY_001_030/20100101_y-CMCC--TEMP-MFSe3r1-MED-b20220901_re-sv01.00.nc'), \"\n",
      " \"PosixPath('/Users/akemberling/Library/CloudStorage/Box-Box/RES_Data/GLORYs/GLOBAL_MULTIYEAR_PHY_001_030/20110101_y-CMCC--TEMP-MFSe3r1-MED-b20220901_re-sv01.00.nc'), \"\n",
      " \"PosixPath('/Users/akemberling/Library/CloudStorage/Box-Box/RES_Data/GLORYs/GLOBAL_MULTIYEAR_PHY_001_030/20120101_y-CMCC--TEMP-MFSe3r1-MED-b20220901_re-sv01.00.nc'), \"\n",
      " \"PosixPath('/Users/akemberling/Library/CloudStorage/Box-Box/RES_Data/GLORYs/GLOBAL_MULTIYEAR_PHY_001_030/20130101_y-CMCC--TEMP-MFSe3r1-MED-b20220901_re-sv01.00.nc'), \"\n",
      " \"PosixPath('/Users/akemberling/Library/CloudStorage/Box-Box/RES_Data/GLORYs/GLOBAL_MULTIYEAR_PHY_001_030/20140101_y-CMCC--TEMP-MFSe3r1-MED-b20220901_re-sv01.00.nc'), \"\n",
      " \"PosixPath('/Users/akemberling/Library/CloudStorage/Box-Box/RES_Data/GLORYs/GLOBAL_MULTIYEAR_PHY_001_030/20150101_y-CMCC--TEMP-MFSe3r1-MED-b20220901_re-sv01.00.nc'), \"\n",
      " \"PosixPath('/Users/akemberling/Library/CloudStorage/Box-Box/RES_Data/GLORYs/GLOBAL_MULTIYEAR_PHY_001_030/20160101_y-CMCC--TEMP-MFSe3r1-MED-b20220901_re-sv01.00.nc'), \"\n",
      " \"PosixPath('/Users/akemberling/Library/CloudStorage/Box-Box/RES_Data/GLORYs/GLOBAL_MULTIYEAR_PHY_001_030/20170101_y-CMCC--TEMP-MFSe3r1-MED-b20220901_re-sv01.00.nc'), \"\n",
      " \"PosixPath('/Users/akemberling/Library/CloudStorage/Box-Box/RES_Data/GLORYs/GLOBAL_MULTIYEAR_PHY_001_030/20180101_y-CMCC--TEMP-MFSe3r1-MED-b20220901_re-sv01.00.nc'), \"\n",
      " \"PosixPath('/Users/akemberling/Library/CloudStorage/Box-Box/RES_Data/GLORYs/GLOBAL_MULTIYEAR_PHY_001_030/20190101_y-CMCC--TEMP-MFSe3r1-MED-b20220901_re-sv01.00.nc'), \"\n",
      " \"PosixPath('/Users/akemberling/Library/CloudStorage/Box-Box/RES_Data/GLORYs/GLOBAL_MULTIYEAR_PHY_001_030/20200101_y-CMCC--TEMP-MFSe3r1-MED-b20220901_re-sv01.00.nc'), \"\n",
      " \"PosixPath('/Users/akemberling/Library/CloudStorage/Box-Box/RES_Data/GLORYs/GLOBAL_MULTIYEAR_PHY_001_030/20210101_y-CMCC--TEMP-MFSe3r1-MED-b20240131_re-sv01.00.nc')]\")\n"
     ]
    },
    {
     "name": "stderr",
     "output_type": "stream",
     "text": [
      "\n"
     ]
    }
   ],
   "source": [
    "# Import modules\n",
    "\n",
    "# Dataset details\n",
    "# https://data.marine.copernicus.eu/product/GLOBAL_MULTIYEAR_PHY_001_030/services\n",
    "\n",
    "\n",
    "# Tutorials for python api\n",
    "# https://help.marine.copernicus.eu/en/articles/8286883-copernicus-marine-toolbox-api-get-original-files\n",
    "\n",
    "\n",
    "# Define parameters to run the extraction\n",
    "dataset_id_monthly = \"cmems_mod_med_phy-tem_my_4.2km_P1Y-m\"\n",
    "\n",
    "# Define output storage parameters\n",
    "output_directory = glorys_path\n",
    "\n",
    "# Call the get function to save data\n",
    "get_result_annualmean = copernicusmarine.get(\n",
    "    dataset_id=dataset_id_monthly,\n",
    "    output_directory=output_directory,\n",
    "    no_directories=True)\n",
    "\n",
    "pprint(f\"List of saved files: {get_result_annualmean}\")"
   ]
  },
  {
   "cell_type": "code",
   "execution_count": null,
   "metadata": {},
   "outputs": [],
   "source": []
  }
 ],
 "metadata": {
  "kernelspec": {
   "display_name": "fvcom_env",
   "language": "python",
   "name": "python3"
  },
  "language_info": {
   "codemirror_mode": {
    "name": "ipython",
    "version": 3
   },
   "file_extension": ".py",
   "mimetype": "text/x-python",
   "name": "python",
   "nbconvert_exporter": "python",
   "pygments_lexer": "ipython3",
   "version": "3.12.2"
  }
 },
 "nbformat": 4,
 "nbformat_minor": 2
}
